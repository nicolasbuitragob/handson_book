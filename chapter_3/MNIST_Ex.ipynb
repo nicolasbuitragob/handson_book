{
 "cells": [
  {
   "cell_type": "code",
   "execution_count": 2,
   "id": "decreased-tulsa",
   "metadata": {},
   "outputs": [],
   "source": [
    "import pandas as pd\n",
    "import numpy as np\n",
    "from sklearn.datasets import fetch_openml\n",
    "import matplotlib.pyplot as plt\n"
   ]
  },
  {
   "cell_type": "code",
   "execution_count": 3,
   "id": "united-fruit",
   "metadata": {},
   "outputs": [],
   "source": [
    "mnist = fetch_openml('mnist_784',version = 1)\n",
    "X,y = mnist['data'], mnist['target']"
   ]
  },
  {
   "cell_type": "code",
   "execution_count": 4,
   "id": "recreational-mandate",
   "metadata": {},
   "outputs": [],
   "source": [
    "X_train,X_test,y_train,y_test = X[:60000],X[60000:], y[:60000],y[60000:]"
   ]
  },
  {
   "cell_type": "markdown",
   "id": "transsexual-ukraine",
   "metadata": {},
   "source": [
    "### Exercise 1\n",
    "Classifier with 97% accuracy on the test set"
   ]
  },
  {
   "cell_type": "code",
   "execution_count": 5,
   "id": "limited-plant",
   "metadata": {},
   "outputs": [],
   "source": [
    "from sklearn.neighbors import KNeighborsClassifier\n",
    "from sklearn.metrics import accuracy_score\n",
    "knn_clf = KNeighborsClassifier()"
   ]
  },
  {
   "cell_type": "code",
   "execution_count": 6,
   "id": "alike-picnic",
   "metadata": {},
   "outputs": [
    {
     "data": {
      "text/plain": [
       "0.9819166666666667"
      ]
     },
     "execution_count": 6,
     "metadata": {},
     "output_type": "execute_result"
    }
   ],
   "source": [
    "knn_clf.fit(X_train,y_train)\n",
    "knn_clf.score(X_train,y_train)"
   ]
  },
  {
   "cell_type": "code",
   "execution_count": 8,
   "id": "attached-graphic",
   "metadata": {},
   "outputs": [
    {
     "data": {
      "text/plain": [
       "0.9688"
      ]
     },
     "execution_count": 8,
     "metadata": {},
     "output_type": "execute_result"
    }
   ],
   "source": [
    "initial_pred = knn_clf.predict(X_test)\n",
    "initial_score = accuracy_score(y_test,initial_pred)\n",
    "initial_score"
   ]
  },
  {
   "cell_type": "code",
   "execution_count": 10,
   "id": "serious-delta",
   "metadata": {},
   "outputs": [],
   "source": [
    "from sklearn.model_selection import GridSearchCV"
   ]
  },
  {
   "cell_type": "code",
   "execution_count": 12,
   "id": "opened-swift",
   "metadata": {},
   "outputs": [
    {
     "data": {
      "text/plain": [
       "{'n_neighbors': 3, 'weights': 'distance'}"
      ]
     },
     "execution_count": 12,
     "metadata": {},
     "output_type": "execute_result"
    }
   ],
   "source": [
    "grid_params = {'weights':['uniform','distance'],'n_neighbors' : [3,5,7,10]}\n",
    "grid_search = GridSearchCV(knn_clf,grid_params,n_jobs = 3,scoring = 'accuracy')\n",
    "grid_search.fit(X_train,y_train)\n",
    "grid_search.best_params_"
   ]
  },
  {
   "cell_type": "code",
   "execution_count": 14,
   "id": "close-operations",
   "metadata": {},
   "outputs": [
    {
     "data": {
      "text/plain": [
       "0.9717"
      ]
     },
     "execution_count": 14,
     "metadata": {},
     "output_type": "execute_result"
    }
   ],
   "source": [
    "knn_clf_params = KNeighborsClassifier(n_neighbors=3,weights = 'distance')\n",
    "knn_clf_params.fit(X_train,y_train)\n",
    "pred_params = knn_clf_params.predict(X_test)\n",
    "score = accuracy_score(y_test,pred_params)\n",
    "score"
   ]
  },
  {
   "cell_type": "markdown",
   "id": "packed-morgan",
   "metadata": {},
   "source": [
    "Final Score on test set 97.17%"
   ]
  },
  {
   "cell_type": "code",
   "execution_count": null,
   "id": "further-blade",
   "metadata": {},
   "outputs": [],
   "source": []
  }
 ],
 "metadata": {
  "kernelspec": {
   "display_name": "Python 3",
   "language": "python",
   "name": "python3"
  },
  "language_info": {
   "codemirror_mode": {
    "name": "ipython",
    "version": 3
   },
   "file_extension": ".py",
   "mimetype": "text/x-python",
   "name": "python",
   "nbconvert_exporter": "python",
   "pygments_lexer": "ipython3",
   "version": "3.8.5"
  }
 },
 "nbformat": 4,
 "nbformat_minor": 5
}
